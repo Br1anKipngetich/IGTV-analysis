{
 "cells": [
  {
   "cell_type": "code",
   "execution_count": 1,
   "id": "3d340186",
   "metadata": {},
   "outputs": [],
   "source": [
    "import pandas as pd\n",
    "import matplotlib.pyplot as plt"
   ]
  },
  {
   "cell_type": "code",
   "execution_count": 3,
   "id": "6750b7ef",
   "metadata": {},
   "outputs": [],
   "source": [
    "data = pd.read_csv(\"C:\\\\Users\\\\FIREBOYY\\\\Downloads\\\\igtv.csv\")"
   ]
  },
  {
   "cell_type": "code",
   "execution_count": 4,
   "id": "c9def9cc",
   "metadata": {},
   "outputs": [
    {
     "data": {
      "text/html": [
       "<div>\n",
       "<style scoped>\n",
       "    .dataframe tbody tr th:only-of-type {\n",
       "        vertical-align: middle;\n",
       "    }\n",
       "\n",
       "    .dataframe tbody tr th {\n",
       "        vertical-align: top;\n",
       "    }\n",
       "\n",
       "    .dataframe thead th {\n",
       "        text-align: right;\n",
       "    }\n",
       "</style>\n",
       "<table border=\"1\" class=\"dataframe\">\n",
       "  <thead>\n",
       "    <tr style=\"text-align: right;\">\n",
       "      <th></th>\n",
       "      <th>video_id</th>\n",
       "      <th>views</th>\n",
       "      <th>likes</th>\n",
       "      <th>comments</th>\n",
       "      <th>engagement_rate</th>\n",
       "      <th>duration</th>\n",
       "      <th>upload_date</th>\n",
       "      <th>channel</th>\n",
       "      <th>category</th>\n",
       "      <th>hashtags</th>\n",
       "    </tr>\n",
       "  </thead>\n",
       "  <tbody>\n",
       "    <tr>\n",
       "      <th>0</th>\n",
       "      <td>1</td>\n",
       "      <td>570414</td>\n",
       "      <td>61678</td>\n",
       "      <td>3817</td>\n",
       "      <td>6.79</td>\n",
       "      <td>308</td>\n",
       "      <td>4/28/2019</td>\n",
       "      <td>Facebook</td>\n",
       "      <td>Entertainment</td>\n",
       "      <td>aliquam sit amet diam in magna bibendum imperd...</td>\n",
       "    </tr>\n",
       "    <tr>\n",
       "      <th>1</th>\n",
       "      <td>2</td>\n",
       "      <td>507796</td>\n",
       "      <td>45053</td>\n",
       "      <td>5550</td>\n",
       "      <td>0.71</td>\n",
       "      <td>1168</td>\n",
       "      <td>5/7/2019</td>\n",
       "      <td>Facebook</td>\n",
       "      <td>Fashion</td>\n",
       "      <td>ipsum praesent blandit lacinia erat vestibulum...</td>\n",
       "    </tr>\n",
       "    <tr>\n",
       "      <th>2</th>\n",
       "      <td>3</td>\n",
       "      <td>862229</td>\n",
       "      <td>52815</td>\n",
       "      <td>8884</td>\n",
       "      <td>2.34</td>\n",
       "      <td>3494</td>\n",
       "      <td>10/30/2019</td>\n",
       "      <td>Facebook</td>\n",
       "      <td>Fitness</td>\n",
       "      <td>libero ut massa volutpat convallis morbi odio ...</td>\n",
       "    </tr>\n",
       "    <tr>\n",
       "      <th>3</th>\n",
       "      <td>4</td>\n",
       "      <td>392411</td>\n",
       "      <td>38227</td>\n",
       "      <td>4106</td>\n",
       "      <td>4.66</td>\n",
       "      <td>426</td>\n",
       "      <td>11/5/2021</td>\n",
       "      <td>Facebook</td>\n",
       "      <td>Fitness</td>\n",
       "      <td>ac leo pellentesque ultrices mattis odio donec...</td>\n",
       "    </tr>\n",
       "    <tr>\n",
       "      <th>4</th>\n",
       "      <td>5</td>\n",
       "      <td>491420</td>\n",
       "      <td>57076</td>\n",
       "      <td>972</td>\n",
       "      <td>8.02</td>\n",
       "      <td>1207</td>\n",
       "      <td>10/5/2021</td>\n",
       "      <td>Facebook</td>\n",
       "      <td>Fitness</td>\n",
       "      <td>tortor risus dapibus augue vel accumsan tellus...</td>\n",
       "    </tr>\n",
       "  </tbody>\n",
       "</table>\n",
       "</div>"
      ],
      "text/plain": [
       "   video_id   views  likes  comments  engagement_rate  duration upload_date  \\\n",
       "0         1  570414  61678      3817             6.79       308   4/28/2019   \n",
       "1         2  507796  45053      5550             0.71      1168    5/7/2019   \n",
       "2         3  862229  52815      8884             2.34      3494  10/30/2019   \n",
       "3         4  392411  38227      4106             4.66       426   11/5/2021   \n",
       "4         5  491420  57076       972             8.02      1207   10/5/2021   \n",
       "\n",
       "    channel       category                                           hashtags  \n",
       "0  Facebook  Entertainment  aliquam sit amet diam in magna bibendum imperd...  \n",
       "1  Facebook        Fashion  ipsum praesent blandit lacinia erat vestibulum...  \n",
       "2  Facebook        Fitness  libero ut massa volutpat convallis morbi odio ...  \n",
       "3  Facebook        Fitness  ac leo pellentesque ultrices mattis odio donec...  \n",
       "4  Facebook        Fitness  tortor risus dapibus augue vel accumsan tellus...  "
      ]
     },
     "execution_count": 4,
     "metadata": {},
     "output_type": "execute_result"
    }
   ],
   "source": [
    "data.head()"
   ]
  },
  {
   "cell_type": "code",
   "execution_count": 5,
   "id": "8ae5d89d",
   "metadata": {},
   "outputs": [
    {
     "data": {
      "text/plain": [
       "(1000, 10)"
      ]
     },
     "execution_count": 5,
     "metadata": {},
     "output_type": "execute_result"
    }
   ],
   "source": [
    "data.shape\n"
   ]
  },
  {
   "cell_type": "code",
   "execution_count": 6,
   "id": "19678365",
   "metadata": {},
   "outputs": [
    {
     "data": {
      "text/plain": [
       "video_id           0\n",
       "views              0\n",
       "likes              0\n",
       "comments           0\n",
       "engagement_rate    0\n",
       "duration           0\n",
       "upload_date        0\n",
       "channel            0\n",
       "category           0\n",
       "hashtags           0\n",
       "dtype: int64"
      ]
     },
     "execution_count": 6,
     "metadata": {},
     "output_type": "execute_result"
    }
   ],
   "source": [
    "data.isna().sum()"
   ]
  },
  {
   "cell_type": "code",
   "execution_count": 7,
   "id": "55470be6",
   "metadata": {},
   "outputs": [
    {
     "data": {
      "text/html": [
       "<div>\n",
       "<style scoped>\n",
       "    .dataframe tbody tr th:only-of-type {\n",
       "        vertical-align: middle;\n",
       "    }\n",
       "\n",
       "    .dataframe tbody tr th {\n",
       "        vertical-align: top;\n",
       "    }\n",
       "\n",
       "    .dataframe thead th {\n",
       "        text-align: right;\n",
       "    }\n",
       "</style>\n",
       "<table border=\"1\" class=\"dataframe\">\n",
       "  <thead>\n",
       "    <tr style=\"text-align: right;\">\n",
       "      <th></th>\n",
       "      <th>video_id</th>\n",
       "      <th>views</th>\n",
       "      <th>likes</th>\n",
       "      <th>comments</th>\n",
       "      <th>engagement_rate</th>\n",
       "      <th>duration</th>\n",
       "    </tr>\n",
       "  </thead>\n",
       "  <tbody>\n",
       "    <tr>\n",
       "      <th>count</th>\n",
       "      <td>1000.000000</td>\n",
       "      <td>1000.000000</td>\n",
       "      <td>1000.00000</td>\n",
       "      <td>1000.000000</td>\n",
       "      <td>1000.000000</td>\n",
       "      <td>1000.000000</td>\n",
       "    </tr>\n",
       "    <tr>\n",
       "      <th>mean</th>\n",
       "      <td>500.500000</td>\n",
       "      <td>513382.316000</td>\n",
       "      <td>50234.58900</td>\n",
       "      <td>5001.855000</td>\n",
       "      <td>4.899560</td>\n",
       "      <td>1788.024000</td>\n",
       "    </tr>\n",
       "    <tr>\n",
       "      <th>std</th>\n",
       "      <td>288.819436</td>\n",
       "      <td>293119.753748</td>\n",
       "      <td>29101.41654</td>\n",
       "      <td>2848.276658</td>\n",
       "      <td>2.854401</td>\n",
       "      <td>1011.024449</td>\n",
       "    </tr>\n",
       "    <tr>\n",
       "      <th>min</th>\n",
       "      <td>1.000000</td>\n",
       "      <td>339.000000</td>\n",
       "      <td>169.00000</td>\n",
       "      <td>26.000000</td>\n",
       "      <td>0.010000</td>\n",
       "      <td>0.000000</td>\n",
       "    </tr>\n",
       "    <tr>\n",
       "      <th>25%</th>\n",
       "      <td>250.750000</td>\n",
       "      <td>269291.000000</td>\n",
       "      <td>24465.75000</td>\n",
       "      <td>2606.750000</td>\n",
       "      <td>2.410000</td>\n",
       "      <td>937.750000</td>\n",
       "    </tr>\n",
       "    <tr>\n",
       "      <th>50%</th>\n",
       "      <td>500.500000</td>\n",
       "      <td>510718.000000</td>\n",
       "      <td>50721.00000</td>\n",
       "      <td>4909.500000</td>\n",
       "      <td>4.925000</td>\n",
       "      <td>1764.000000</td>\n",
       "    </tr>\n",
       "    <tr>\n",
       "      <th>75%</th>\n",
       "      <td>750.250000</td>\n",
       "      <td>769464.000000</td>\n",
       "      <td>75777.00000</td>\n",
       "      <td>7503.750000</td>\n",
       "      <td>7.340000</td>\n",
       "      <td>2666.500000</td>\n",
       "    </tr>\n",
       "    <tr>\n",
       "      <th>max</th>\n",
       "      <td>1000.000000</td>\n",
       "      <td>999341.000000</td>\n",
       "      <td>99596.00000</td>\n",
       "      <td>9999.000000</td>\n",
       "      <td>10.000000</td>\n",
       "      <td>3600.000000</td>\n",
       "    </tr>\n",
       "  </tbody>\n",
       "</table>\n",
       "</div>"
      ],
      "text/plain": [
       "          video_id          views        likes     comments  engagement_rate  \\\n",
       "count  1000.000000    1000.000000   1000.00000  1000.000000      1000.000000   \n",
       "mean    500.500000  513382.316000  50234.58900  5001.855000         4.899560   \n",
       "std     288.819436  293119.753748  29101.41654  2848.276658         2.854401   \n",
       "min       1.000000     339.000000    169.00000    26.000000         0.010000   \n",
       "25%     250.750000  269291.000000  24465.75000  2606.750000         2.410000   \n",
       "50%     500.500000  510718.000000  50721.00000  4909.500000         4.925000   \n",
       "75%     750.250000  769464.000000  75777.00000  7503.750000         7.340000   \n",
       "max    1000.000000  999341.000000  99596.00000  9999.000000        10.000000   \n",
       "\n",
       "          duration  \n",
       "count  1000.000000  \n",
       "mean   1788.024000  \n",
       "std    1011.024449  \n",
       "min       0.000000  \n",
       "25%     937.750000  \n",
       "50%    1764.000000  \n",
       "75%    2666.500000  \n",
       "max    3600.000000  "
      ]
     },
     "execution_count": 7,
     "metadata": {},
     "output_type": "execute_result"
    }
   ],
   "source": [
    "data.describe()"
   ]
  },
  {
   "cell_type": "code",
   "execution_count": 8,
   "id": "92033b84",
   "metadata": {},
   "outputs": [
    {
     "name": "stdout",
     "output_type": "stream",
     "text": [
      "<class 'pandas.core.frame.DataFrame'>\n",
      "RangeIndex: 1000 entries, 0 to 999\n",
      "Data columns (total 10 columns):\n",
      " #   Column           Non-Null Count  Dtype  \n",
      "---  ------           --------------  -----  \n",
      " 0   video_id         1000 non-null   int64  \n",
      " 1   views            1000 non-null   int64  \n",
      " 2   likes            1000 non-null   int64  \n",
      " 3   comments         1000 non-null   int64  \n",
      " 4   engagement_rate  1000 non-null   float64\n",
      " 5   duration         1000 non-null   int64  \n",
      " 6   upload_date      1000 non-null   object \n",
      " 7   channel          1000 non-null   object \n",
      " 8   category         1000 non-null   object \n",
      " 9   hashtags         1000 non-null   object \n",
      "dtypes: float64(1), int64(5), object(4)\n",
      "memory usage: 78.2+ KB\n"
     ]
    }
   ],
   "source": [
    "data.info()"
   ]
  },
  {
   "cell_type": "code",
   "execution_count": 11,
   "id": "afb3db83",
   "metadata": {},
   "outputs": [],
   "source": [
    "# Measure key performance indicators\n",
    "total_views = data['views'].sum()\n",
    "total_engagement_rate = data['engagement_rate'].sum()\n",
    "total_likes = data['likes'].sum()\n",
    "total_comments = data['comments'].sum()"
   ]
  },
  {
   "cell_type": "code",
   "execution_count": 15,
   "id": "16d5f1d3",
   "metadata": {},
   "outputs": [
    {
     "data": {
      "text/plain": [
       "Index(['video_id', 'views', 'likes', 'comments', 'engagement_rate', 'duration',\n",
       "       'upload_date', 'channel', 'category', 'hashtags'],\n",
       "      dtype='object')"
      ]
     },
     "execution_count": 15,
     "metadata": {},
     "output_type": "execute_result"
    }
   ],
   "source": [
    "data.columns"
   ]
  },
  {
   "cell_type": "code",
   "execution_count": 23,
   "id": "98a296a7",
   "metadata": {},
   "outputs": [],
   "source": [
    "from sklearn.preprocessing import MinMaxScaler\n",
    "scaler = MinMaxScaler()\n",
    "columns=[\"views\", \"likes\", \"comments\", \"engagement_rate\"]\n",
    "data[columns]=scaler.fit_transform(data[columns])\n"
   ]
  },
  {
   "cell_type": "code",
   "execution_count": 26,
   "id": "f45e1746",
   "metadata": {},
   "outputs": [],
   "source": [
    "total_views = data['views'].sum()\n",
    "total_engagement_rate = data['engagement_rate'].sum()\n",
    "total_likes = data['likes'].sum()\n",
    "total_comments = data['comments'].sum()"
   ]
  },
  {
   "cell_type": "code",
   "execution_count": 27,
   "id": "a6224284",
   "metadata": {},
   "outputs": [
    {
     "data": {
      "image/png": "[encoded data removed]",
      "text/plain": [
       "<Figure size 720x432 with 1 Axes>"
      ]
     },
     "metadata": {
      "needs_background": "light"
     },
     "output_type": "display_data"
    }
   ],
   "source": [
    "# Plot engagement metrics\n",
    "plt.figure(figsize=(10, 6))\n",
    "plt.bar(['Total Views', 'Average engagement rate ', 'Total Likes', 'Total Comments'],\n",
    "        [total_views, total_engagement_rate, total_likes, total_comments])\n",
    "plt.title('IGTV Engagement Metrics')\n",
    "plt.ylabel('Count')\n",
    "plt.show()"
   ]
  },
  {
   "cell_type": "code",
   "execution_count": null,
   "id": "9712fb3d",
   "metadata": {},
   "outputs": [],
   "source": [
    "# Analyze user growth\n",
    "followers_growth = data['followers'].diff().sum()\n",
    "subscribers_growth = data['subscribers'].diff().sum()"
   ]
  },
  {
   "cell_type": "code",
   "execution_count": null,
   "id": "63ff345b",
   "metadata": {},
   "outputs": [],
   "source": [
    "# Print growth metrics\n",
    "print(f'Total Followers Growth: {followers_growth}')\n",
    "print(f'Total Subscribers Growth: {subscribers_growth}')"
   ]
  }
 ],
 "metadata": {
  "hide_input": false,
  "kernelspec": {
   "display_name": "Python 3 (ipykernel)",
   "language": "python",
   "name": "python3"
  },
  "language_info": {
   "codemirror_mode": {
    "name": "ipython",
    "version": 3
   },
   "file_extension": ".py",
   "mimetype": "text/x-python",
   "name": "python",
   "nbconvert_exporter": "python",
   "pygments_lexer": "ipython3",
   "version": "3.9.12"
  },
  "toc": {
   "base_numbering": 1,
   "nav_menu": {},
   "number_sections": true,
   "sideBar": true,
   "skip_h1_title": false,
   "title_cell": "Table of Contents",
   "title_sidebar": "Contents",
   "toc_cell": false,
   "toc_position": {},
   "toc_section_display": true,
   "toc_window_display": false
  }
 },
 "nbformat": 4,
 "nbformat_minor": 5
}
